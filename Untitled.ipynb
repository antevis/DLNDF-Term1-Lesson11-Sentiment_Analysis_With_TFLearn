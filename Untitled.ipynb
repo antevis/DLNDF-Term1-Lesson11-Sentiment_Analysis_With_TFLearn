{
 "cells": [
  {
   "cell_type": "code",
   "execution_count": 5,
   "metadata": {
    "collapsed": true
   },
   "outputs": [],
   "source": [
    "def bag_of_words(text):\n",
    "    # TODO: Implement bag of words\n",
    "    bag = {}\n",
    "    for word in text.split():\n",
    "        if word in bag:\n",
    "            bag[word] += 1\n",
    "        else:\n",
    "            bag[word] = 1\n",
    "        \n",
    "    return bag"
   ]
  },
  {
   "cell_type": "code",
   "execution_count": 6,
   "metadata": {
    "collapsed": false
   },
   "outputs": [
    {
     "name": "stdout",
     "output_type": "stream",
     "text": [
      "{'the': 2, 'over': 1, 'lazy': 1, 'fox': 1, 'jumps': 1, 'quick': 1, 'brown': 1, 'dog': 1}\n"
     ]
    }
   ],
   "source": [
    "test_text = 'the quick brown fox jumps over the lazy dog'\n",
    "\n",
    "print(bag_of_words(test_text))"
   ]
  },
  {
   "cell_type": "code",
   "execution_count": 7,
   "metadata": {
    "collapsed": false
   },
   "outputs": [
    {
     "data": {
      "text/plain": [
       "{'brown': 2,\n",
       " 'dog': 8,\n",
       " 'fox': 3,\n",
       " 'jumps': 4,\n",
       " 'lazy': 7,\n",
       " 'over': 5,\n",
       " 'quick': 1,\n",
       " 'the': 6}"
      ]
     },
     "execution_count": 7,
     "metadata": {},
     "output_type": "execute_result"
    }
   ],
   "source": []
  }
 ],
 "metadata": {
  "kernelspec": {
   "display_name": "Python 3",
   "language": "python",
   "name": "python3"
  },
  "language_info": {
   "codemirror_mode": {
    "name": "ipython",
    "version": 3
   },
   "file_extension": ".py",
   "mimetype": "text/x-python",
   "name": "python",
   "nbconvert_exporter": "python",
   "pygments_lexer": "ipython3",
   "version": "3.5.2"
  }
 },
 "nbformat": 4,
 "nbformat_minor": 2
}
